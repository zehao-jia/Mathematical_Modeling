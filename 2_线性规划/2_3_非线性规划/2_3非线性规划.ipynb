{
 "cells": [
  {
   "cell_type": "markdown",
   "metadata": {},
   "source": [
    "# 非线性规划的python实现\n",
    "\n",
    "- minimize函数\n",
    "- res=scipy.optimize.minimize(fun , x0 ,args, method='SLSQP' , bounds=None , constraints=(), tol=None , callback=None , options=None)\n",
    "- res: 返回值,res.x：最优解,res.fun：最优值\n",
    "- fun：目标函数,需要接受一个或多个参数斌返回对应的目标值\n",
    "- x0：决策变量的初始值,是一个一维数组\n",
    "- args:用于像目标函数和约束函数中传入额外的参数\n",
    "- method: 优化方法,对于不同的问题类型,可以选用不同的方法\n",
    "- bounds:决策变量的边界,是一个二维数组,每一行表示一个变量的边界,左闭右开\n",
    "- constraints:约束条件,通过type键来指定约束类型,'eq'表示等式约束,'ineq'表示不等式约束\n",
    "- tol:收敛条件,默认为1e-8(一般不用管)\n",
    "- callback:回调函数,用于在每次迭代后输出结果(一般不用管)\n",
    "- options:优化参数,是一个字典,默认为None(一般不用管)"
   ]
  },
  {
   "cell_type": "markdown",
   "metadata": {},
   "source": [
    "#### eg1:\n",
    "求最小值  $min\\ y=x_1^2+x_2^2-x_1x_2-2x_1-5x_2 $ \n",
    "\n",
    "其中,$ -(x_1-1)^2+x_2>= 0 $\n",
    "\n",
    "$ 2x_1+3x_2+6>= 0 $"
   ]
  },
  {
   "cell_type": "code",
   "execution_count": 5,
   "metadata": {},
   "outputs": [
    {
     "name": "stdout",
     "output_type": "stream",
     "text": [
      "Optimization terminated successfully    (Exit mode 0)\n",
      "            Current function value: -12.999999655945125\n",
      "            Iterations: 6\n",
      "            Function evaluations: 18\n",
      "            Gradient evaluations: 6\n",
      "[2.99936405 3.99948021]\n"
     ]
    }
   ],
   "source": [
    "import numpy as np\n",
    "from scipy.optimize import minimize\n",
    "\n",
    "# 目标函数,接受一组值,返回对应的值\n",
    "def f(x):\n",
    "    return x[0]**2 + x[1]**2-2*x[0]-5*x[1]-x[0]*x[1]  \n",
    "\n",
    "# 两个非线性约束函数,接受一组值,返回对应的值\n",
    "\n",
    "def nonlcon1(x):\n",
    "    return -(x[0]-1)**2+x[1]\n",
    "\n",
    "def nonlcon2(x):\n",
    "    return x[0]*2+x[1]*3-6\n",
    "\n",
    "#初始值设定,设置为一个二维的numpy数组\n",
    "x0=np.array([0,0])\n",
    "\n",
    "#使用默认算法求解\n",
    "res=minimize(f,x0,method='SLSQP',\n",
    "constraints=({'type':'ineq','fun':nonlcon1},{'type':'ineq','fun':nonlcon2}),bounds=None,options={'disp':True})\n",
    "print(res.x)"
   ]
  }
 ],
 "metadata": {
  "kernelspec": {
   "display_name": "Python 3",
   "language": "python",
   "name": "python3"
  },
  "language_info": {
   "codemirror_mode": {
    "name": "ipython",
    "version": 3
   },
   "file_extension": ".py",
   "mimetype": "text/x-python",
   "name": "python",
   "nbconvert_exporter": "python",
   "pygments_lexer": "ipython3",
   "version": "3.11.5"
  }
 },
 "nbformat": 4,
 "nbformat_minor": 2
}
